{
 "cells": [
  {
   "cell_type": "markdown",
   "id": "4c63fcb8",
   "metadata": {},
   "source": [
    "# normal equation"
   ]
  },
  {
   "cell_type": "code",
   "execution_count": 17,
   "id": "ef311081",
   "metadata": {},
   "outputs": [
    {
     "data": {
      "text/plain": [
       "<matplotlib.collections.PathCollection at 0x299cb964790>"
      ]
     },
     "execution_count": 17,
     "metadata": {},
     "output_type": "execute_result"
    },
    {
     "data": {
      "image/png": "[encoded data removed]",
      "text/plain": [
       "<Figure size 432x288 with 1 Axes>"
      ]
     },
     "metadata": {
      "needs_background": "light"
     },
     "output_type": "display_data"
    }
   ],
   "source": [
    "import numpy as np \n",
    "np.random.seed(42)\n",
    "m=100\n",
    "X=2*np.random.rand(m,1)\n",
    "Y=4+3*X+np.random.rand(m,1)\n",
    "import matplotlib.pyplot as plt\n",
    "plt.scatter(X,y)\n"
   ]
  },
  {
   "cell_type": "code",
   "execution_count": 18,
   "id": "b6bd2551",
   "metadata": {},
   "outputs": [
    {
     "name": "stdout",
     "output_type": "stream",
     "text": [
      "[[0.74908024]\n",
      " [1.90142861]\n",
      " [1.46398788]\n",
      " [1.19731697]\n",
      " [0.31203728]\n",
      " [0.31198904]\n",
      " [0.11616722]\n",
      " [1.73235229]\n",
      " [1.20223002]\n",
      " [1.41614516]\n",
      " [0.04116899]\n",
      " [1.9398197 ]\n",
      " [1.66488528]\n",
      " [0.42467822]\n",
      " [0.36364993]\n",
      " [0.36680902]\n",
      " [0.60848449]\n",
      " [1.04951286]\n",
      " [0.86389004]\n",
      " [0.58245828]\n",
      " [1.22370579]\n",
      " [0.27898772]\n",
      " [0.5842893 ]\n",
      " [0.73272369]\n",
      " [0.91213997]\n",
      " [1.57035192]\n",
      " [0.39934756]\n",
      " [1.02846888]\n",
      " [1.18482914]\n",
      " [0.09290083]\n",
      " [1.2150897 ]\n",
      " [0.34104825]\n",
      " [0.13010319]\n",
      " [1.89777107]\n",
      " [1.93126407]\n",
      " [1.6167947 ]\n",
      " [0.60922754]\n",
      " [0.19534423]\n",
      " [1.36846605]\n",
      " [0.88030499]\n",
      " [0.24407647]\n",
      " [0.99035382]\n",
      " [0.06877704]\n",
      " [1.8186408 ]\n",
      " [0.51755996]\n",
      " [1.32504457]\n",
      " [0.62342215]\n",
      " [1.04013604]\n",
      " [1.09342056]\n",
      " [0.36970891]\n",
      " [1.93916926]\n",
      " [1.55026565]\n",
      " [1.87899788]\n",
      " [1.7896547 ]\n",
      " [1.19579996]\n",
      " [1.84374847]\n",
      " [0.176985  ]\n",
      " [0.39196572]\n",
      " [0.09045458]\n",
      " [0.65066066]\n",
      " [0.77735458]\n",
      " [0.54269806]\n",
      " [1.65747502]\n",
      " [0.71350665]\n",
      " [0.56186902]\n",
      " [1.08539217]\n",
      " [0.28184845]\n",
      " [1.60439396]\n",
      " [0.14910129]\n",
      " [1.97377387]\n",
      " [1.54448954]\n",
      " [0.39743136]\n",
      " [0.01104423]\n",
      " [1.63092286]\n",
      " [1.41371469]\n",
      " [1.45801434]\n",
      " [1.54254069]\n",
      " [0.1480893 ]\n",
      " [0.71693146]\n",
      " [0.23173812]\n",
      " [1.72620685]\n",
      " [1.24659625]\n",
      " [0.66179605]\n",
      " [0.1271167 ]\n",
      " [0.62196464]\n",
      " [0.65036664]\n",
      " [1.45921236]\n",
      " [1.27511494]\n",
      " [1.77442549]\n",
      " [0.94442985]\n",
      " [0.23918849]\n",
      " [1.42648957]\n",
      " [1.5215701 ]\n",
      " [1.1225544 ]\n",
      " [1.54193436]\n",
      " [0.98759119]\n",
      " [1.04546566]\n",
      " [0.85508204]\n",
      " [0.05083825]\n",
      " [0.21578285]]\n"
     ]
    }
   ],
   "source": [
    "print(X)"
   ]
  },
  {
   "cell_type": "code",
   "execution_count": 21,
   "id": "29abc8ca",
   "metadata": {},
   "outputs": [],
   "source": [
    "from sklearn.preprocessing import add_dummy_feature\n",
    "X_b=add_dummy_feature(X) # to add x0=1 to every instance \n",
    "theta_best=np.linalg.inv(X_b.T@X_b)@X_b.T @ y  #linalg (linear Algerbra module)"
   ]
  },
  {
   "cell_type": "code",
   "execution_count": 23,
   "id": "681406e4",
   "metadata": {},
   "outputs": [
    {
     "data": {
      "text/plain": [
       "array([[4.51359766],\n",
       "       [2.98323418]])"
      ]
     },
     "execution_count": 23,
     "metadata": {},
     "output_type": "execute_result"
    }
   ],
   "source": [
    "theta_best"
   ]
  },
  {
   "cell_type": "markdown",
   "id": "31c165c7",
   "metadata": {},
   "source": [
    "this means that theta zero= 4.215 and theta one =2.7"
   ]
  },
  {
   "cell_type": "markdown",
   "id": "29cf52a9",
   "metadata": {},
   "source": [
    "to make predictions using theta_hat"
   ]
  },
  {
   "cell_type": "code",
   "execution_count": 28,
   "id": "4c66c2e9",
   "metadata": {},
   "outputs": [
    {
     "data": {
      "text/plain": [
       "array([[1., 0.],\n",
       "       [1., 2.]])"
      ]
     },
     "execution_count": 28,
     "metadata": {},
     "output_type": "execute_result"
    }
   ],
   "source": [
    "X_new=np.array([[0],[2]])\n",
    "X_new\n",
    "X_new_b=add_dummy_feature(X_new)\n",
    "X_new_b # add a X0=1 to each instace "
   ]
  },
  {
   "cell_type": "code",
   "execution_count": 29,
   "id": "aca46ec2",
   "metadata": {},
   "outputs": [],
   "source": [
    "y_predict=X_new_b@theta_best"
   ]
  },
  {
   "cell_type": "code",
   "execution_count": 30,
   "id": "a7e9bb12",
   "metadata": {},
   "outputs": [
    {
     "data": {
      "text/plain": [
       "array([[ 4.51359766],\n",
       "       [10.48006601]])"
      ]
     },
     "execution_count": 30,
     "metadata": {},
     "output_type": "execute_result"
    }
   ],
   "source": [
    "y_predict"
   ]
  },
  {
   "cell_type": "code",
   "execution_count": 39,
   "id": "333337aa",
   "metadata": {},
   "outputs": [
    {
     "data": {
      "image/png": "[encoded data removed]",
      "text/plain": [
       "<Figure size 432x288 with 1 Axes>"
      ]
     },
     "metadata": {
      "needs_background": "light"
     },
     "output_type": "display_data"
    }
   ],
   "source": [
    "# to visualize the orginal and prediction \n",
    "plt.plot(X_new,y_predict,'r-',label='predictions')\n",
    "plt.plot(X,y,\"b.\")\n",
    "plt.xlabel(\"X1\")\n",
    "plt.ylabel(\"y\")\n",
    "plt.grid()\n",
    "plt.legend()\n",
    "plt.show()"
   ]
  },
  {
   "cell_type": "code",
   "execution_count": 42,
   "id": "4415f075",
   "metadata": {},
   "outputs": [
    {
     "data": {
      "text/html": [
       "<style>#sk-container-id-1 {color: black;background-color: white;}#sk-container-id-1 pre{padding: 0;}#sk-container-id-1 div.sk-toggleable {background-color: white;}#sk-container-id-1 label.sk-toggleable__label {cursor: pointer;display: block;width: 100%;margin-bottom: 0;padding: 0.3em;box-sizing: border-box;text-align: center;}#sk-container-id-1 label.sk-toggleable__label-arrow:before {content: \"▸\";float: left;margin-right: 0.25em;color: #696969;}#sk-container-id-1 label.sk-toggleable__label-arrow:hover:before {color: black;}#sk-container-id-1 div.sk-estimator:hover label.sk-toggleable__label-arrow:before {color: black;}#sk-container-id-1 div.sk-toggleable__content {max-height: 0;max-width: 0;overflow: hidden;text-align: left;background-color: #f0f8ff;}#sk-container-id-1 div.sk-toggleable__content pre {margin: 0.2em;color: black;border-radius: 0.25em;background-color: #f0f8ff;}#sk-container-id-1 input.sk-toggleable__control:checked~div.sk-toggleable__content {max-height: 200px;max-width: 100%;overflow: auto;}#sk-container-id-1 input.sk-toggleable__control:checked~label.sk-toggleable__label-arrow:before {content: \"▾\";}#sk-container-id-1 div.sk-estimator input.sk-toggleable__control:checked~label.sk-toggleable__label {background-color: #d4ebff;}#sk-container-id-1 div.sk-label input.sk-toggleable__control:checked~label.sk-toggleable__label {background-color: #d4ebff;}#sk-container-id-1 input.sk-hidden--visually {border: 0;clip: rect(1px 1px 1px 1px);clip: rect(1px, 1px, 1px, 1px);height: 1px;margin: -1px;overflow: hidden;padding: 0;position: absolute;width: 1px;}#sk-container-id-1 div.sk-estimator {font-family: monospace;background-color: #f0f8ff;border: 1px dotted black;border-radius: 0.25em;box-sizing: border-box;margin-bottom: 0.5em;}#sk-container-id-1 div.sk-estimator:hover {background-color: #d4ebff;}#sk-container-id-1 div.sk-parallel-item::after {content: \"\";width: 100%;border-bottom: 1px solid gray;flex-grow: 1;}#sk-container-id-1 div.sk-label:hover label.sk-toggleable__label {background-color: #d4ebff;}#sk-container-id-1 div.sk-serial::before {content: \"\";position: absolute;border-left: 1px solid gray;box-sizing: border-box;top: 0;bottom: 0;left: 50%;z-index: 0;}#sk-container-id-1 div.sk-serial {display: flex;flex-direction: column;align-items: center;background-color: white;padding-right: 0.2em;padding-left: 0.2em;position: relative;}#sk-container-id-1 div.sk-item {position: relative;z-index: 1;}#sk-container-id-1 div.sk-parallel {display: flex;align-items: stretch;justify-content: center;background-color: white;position: relative;}#sk-container-id-1 div.sk-item::before, #sk-container-id-1 div.sk-parallel-item::before {content: \"\";position: absolute;border-left: 1px solid gray;box-sizing: border-box;top: 0;bottom: 0;left: 50%;z-index: -1;}#sk-container-id-1 div.sk-parallel-item {display: flex;flex-direction: column;z-index: 1;position: relative;background-color: white;}#sk-container-id-1 div.sk-parallel-item:first-child::after {align-self: flex-end;width: 50%;}#sk-container-id-1 div.sk-parallel-item:last-child::after {align-self: flex-start;width: 50%;}#sk-container-id-1 div.sk-parallel-item:only-child::after {width: 0;}#sk-container-id-1 div.sk-dashed-wrapped {border: 1px dashed gray;margin: 0 0.4em 0.5em 0.4em;box-sizing: border-box;padding-bottom: 0.4em;background-color: white;}#sk-container-id-1 div.sk-label label {font-family: monospace;font-weight: bold;display: inline-block;line-height: 1.2em;}#sk-container-id-1 div.sk-label-container {text-align: center;}#sk-container-id-1 div.sk-container {/* jupyter's `normalize.less` sets `[hidden] { display: none; }` but bootstrap.min.css set `[hidden] { display: none !important; }` so we also need the `!important` here to be able to override the default hidden behavior on the sphinx rendered scikit-learn.org. See: https://github.com/scikit-learn/scikit-learn/issues/21755 */display: inline-block !important;position: relative;}#sk-container-id-1 div.sk-text-repr-fallback {display: none;}</style><div id=\"sk-container-id-1\" class=\"sk-top-container\"><div class=\"sk-text-repr-fallback\"><pre>LinearRegression()</pre><b>In a Jupyter environment, please rerun this cell to show the HTML representation or trust the notebook. <br />On GitHub, the HTML representation is unable to render, please try loading this page with nbviewer.org.</b></div><div class=\"sk-container\" hidden><div class=\"sk-item\"><div class=\"sk-estimator sk-toggleable\"><input class=\"sk-toggleable__control sk-hidden--visually\" id=\"sk-estimator-id-1\" type=\"checkbox\" checked><label for=\"sk-estimator-id-1\" class=\"sk-toggleable__label sk-toggleable__label-arrow\">LinearRegression</label><div class=\"sk-toggleable__content\"><pre>LinearRegression()</pre></div></div></div></div></div>"
      ],
      "text/plain": [
       "LinearRegression()"
      ]
     },
     "execution_count": 42,
     "metadata": {},
     "output_type": "execute_result"
    }
   ],
   "source": [
    "# to predorm using linear regression from skilearn \n",
    "from sklearn.linear_model import LinearRegression\n",
    "lr=LinearRegression()\n",
    "lr.fit(X,y)"
   ]
  },
  {
   "cell_type": "code",
   "execution_count": 44,
   "id": "0bf1dd56",
   "metadata": {},
   "outputs": [
    {
     "data": {
      "text/plain": [
       "array([4.51359766])"
      ]
     },
     "execution_count": 44,
     "metadata": {},
     "output_type": "execute_result"
    }
   ],
   "source": [
    "lr.intercept_ # theta zero"
   ]
  },
  {
   "cell_type": "code",
   "execution_count": 45,
   "id": "ff212266",
   "metadata": {},
   "outputs": [
    {
     "data": {
      "text/plain": [
       "array([[2.98323418]])"
      ]
     },
     "execution_count": 45,
     "metadata": {},
     "output_type": "execute_result"
    }
   ],
   "source": [
    "lr.coef_ #theta one"
   ]
  },
  {
   "cell_type": "code",
   "execution_count": 46,
   "id": "e84ac26e",
   "metadata": {},
   "outputs": [
    {
     "data": {
      "text/plain": [
       "array([[ 4.51359766],\n",
       "       [10.48006601]])"
      ]
     },
     "execution_count": 46,
     "metadata": {},
     "output_type": "execute_result"
    }
   ],
   "source": [
    "lr.predict(X_new)"
   ]
  },
  {
   "cell_type": "code",
   "execution_count": null,
   "id": "a80e0c6a",
   "metadata": {},
   "outputs": [],
   "source": []
  }
 ],
 "metadata": {
  "kernelspec": {
   "display_name": "Python 3",
   "language": "python",
   "name": "python3"
  },
  "language_info": {
   "codemirror_mode": {
    "name": "ipython",
    "version": 3
   },
   "file_extension": ".py",
   "mimetype": "text/x-python",
   "name": "python",
   "nbconvert_exporter": "python",
   "pygments_lexer": "ipython3",
   "version": "3.8.8"
  }
 },
 "nbformat": 4,
 "nbformat_minor": 5
}
